{
 "cells": [
  {
   "cell_type": "code",
   "execution_count": 32,
   "id": "a9573d78-22db-41e7-b243-66ea06d649b0",
   "metadata": {
    "tags": []
   },
   "outputs": [
    {
     "name": "stdout",
     "output_type": "stream",
     "text": [
      "73\n"
     ]
    }
   ],
   "source": [
    "import pandas as pd\n",
    "import requests\n",
    "from bs4 import BeautifulSoup as bs\n",
    "import csv\n",
    "\n",
    "url = (\"https://en.wikipedia.org/wiki/List_of_accolades_received_by_Red_Dead_Redemption_2\")\n",
    "\n",
    "table_class=\"wikitable plainrowheaders sortable jquery-tablesorter\"\n",
    "response=requests.get(url)\n",
    "print(len(df))\n",
    "soup= bs(response.text, 'html.parser')\n",
    "indiatable=soup.find('table',{'class':\"wikitable\"})\n",
    "df= pd.read_html(str(indiatable))\n",
    "df=pd.DataFrame(df[0])\n",
    "dizionario = df.to_dict(orient='list')\n",
    "tabella = pd.DataFrame.from_dict(dizionario, orient='columns')\n",
    "tabella.to_csv('premi.csv', index=False, sep='\\t', encoding='utf-8')"
   ]
  },
  {
   "cell_type": "code",
   "execution_count": null,
   "id": "3643eba1-ada1-4ecc-9591-f6efeedf1a0a",
   "metadata": {},
   "outputs": [],
   "source": []
  },
  {
   "cell_type": "code",
   "execution_count": null,
   "id": "9de0e26d-16c4-4b72-8e82-c7218bc5e468",
   "metadata": {},
   "outputs": [],
   "source": []
  }
 ],
 "metadata": {
  "kernelspec": {
   "display_name": "Python 3 (ipykernel)",
   "language": "python",
   "name": "python3"
  },
  "language_info": {
   "codemirror_mode": {
    "name": "ipython",
    "version": 3
   },
   "file_extension": ".py",
   "mimetype": "text/x-python",
   "name": "python",
   "nbconvert_exporter": "python",
   "pygments_lexer": "ipython3",
   "version": "3.11.5"
  }
 },
 "nbformat": 4,
 "nbformat_minor": 5
}
